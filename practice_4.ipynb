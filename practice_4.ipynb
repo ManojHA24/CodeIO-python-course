{
  "nbformat": 4,
  "nbformat_minor": 0,
  "metadata": {
    "colab": {
      "name": "practice 4.ipynb",
      "provenance": [],
      "collapsed_sections": []
    },
    "kernelspec": {
      "name": "python3",
      "display_name": "Python 3"
    },
    "language_info": {
      "name": "python"
    }
  },
  "cells": [
    {
      "cell_type": "code",
      "metadata": {
        "colab": {
          "base_uri": "https://localhost:8080/"
        },
        "id": "ZkWcbTK5kMGl",
        "outputId": "da0ce1ac-7703-4211-c3ae-8b3994b65559"
      },
      "source": [
        "from google.colab import drive\n",
        "drive.mount('/content/drive')"
      ],
      "execution_count": null,
      "outputs": [
        {
          "output_type": "stream",
          "text": [
            "Drive already mounted at /content/drive; to attempt to forcibly remount, call drive.mount(\"/content/drive\", force_remount=True).\n"
          ],
          "name": "stdout"
        }
      ]
    },
    {
      "cell_type": "code",
      "metadata": {
        "id": "dth3oJQ9kv9-"
      },
      "source": [
        "import pandas as pd\n",
        "df = pd.read_csv('/content/sample_data/data.csv')\n",
        "print(df.head())\n",
        "print(df.dtypes)#Returns the dtypes of the columns of the DataFrame\n",
        "print(df.index)#Returns the row labels of the DataFrame\n",
        "print(df.columns)#Returns the column labels of the DataFrame\n",
        "print(df.shape)#Returns the number of rows and columns of the DataFrame"
      ],
      "execution_count": null,
      "outputs": []
    },
    {
      "cell_type": "code",
      "metadata": {
        "id": "IJRlJo-PbgiH"
      },
      "source": [
        "import pandas as pd\n",
        "df = pd.read_csv('/content/sample_data/data.csv')\n",
        "print(df.tail(5))\n",
        "print(df.sort_index(axis=0,ascending=False))#Turns rows into columns and columns into rows\n",
        "print(df.to_numpy())#Convert the DataFrame to a NumPy array\n",
        "print(df.T)#Turns rows into columns and columns into rows"
      ],
      "execution_count": null,
      "outputs": []
    },
    {
      "cell_type": "code",
      "metadata": {
        "id": "2IdyXvOibECE"
      },
      "source": [
        "import pandas as pd\n",
        "import matplotlib.pyplot as plt\n",
        "df = pd.read_csv('/content/sample_data/data.csv')\n",
        "df.plot()\n",
        "plt.show()"
      ],
      "execution_count": null,
      "outputs": []
    },
    {
      "cell_type": "code",
      "metadata": {
        "id": "Ih6osFceeGGk"
      },
      "source": [
        "import pandas as pd\n",
        "df = pd.read_csv('/content/sample_data/data.csv')\n",
        "print(df[\"year\"])\n",
        "print(df[0:5])\n",
        "df.groupby(\"year\").sum()"
      ],
      "execution_count": null,
      "outputs": []
    },
    {
      "cell_type": "code",
      "metadata": {
        "id": "vYMbAxqvr966"
      },
      "source": [
        "import pandas as pd\n",
        "df = pd.read_csv('/content/sample_data/data.csv')\n",
        "#df.stack()\n",
        "#df.groupby(\"year\").sum()\n",
        "pieces=[df[0:3],df[1550:1553],df[3098:3101]]\n",
        "pd.concat(pieces)"
      ],
      "execution_count": null,
      "outputs": []
    },
    {
      "cell_type": "code",
      "metadata": {
        "id": "u5lmC4VIguB0"
      },
      "source": [
        "import pandas as pd\n",
        "df = pd.read_csv('/content/sample_data/data.csv')\n",
        "print(df.head())\n",
        "print(df.loc[0])\n",
        "print(df.loc[0:3,[\"year\",\"industry_code_ANZSIC\"]])\n",
        "print(df.iloc[3])"
      ],
      "execution_count": null,
      "outputs": []
    },
    {
      "cell_type": "code",
      "metadata": {
        "id": "dDTUQyqKpp00"
      },
      "source": [
        "import pandas as pd\n",
        "import matplotlib.pyplot as plt\n",
        "df = pd.read_csv('/content/sample_data/data.csv')\n",
        "#df.iloc[3:5,0:2]\n",
        "#df.iloc[[1, 2, 3], [0, 2]]\n",
        "df.cumsum()\n",
        "plt.figure();\n",
        "df.plot();\n",
        "plt.legend(loc=\"best\")"
      ],
      "execution_count": null,
      "outputs": []
    }
  ]
}